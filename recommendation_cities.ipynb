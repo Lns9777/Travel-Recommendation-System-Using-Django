{
 "cells": [
  {
   "cell_type": "code",
   "execution_count": 1,
   "metadata": {},
   "outputs": [],
   "source": [
    "import pandas as pd\n",
    "import numpy as np\n",
    "import matplotlib.pyplot as plt\n",
    "import seaborn as sns\n",
    "import nltk\n",
    "from nltk.corpus import stopwords\n",
    "from nltk.tokenize import word_tokenize\n",
    "from sklearn.feature_extraction.text import TfidfVectorizer\n",
    "import string\n",
    "from sklearn.metrics.pairwise import cosine_similarity\n",
    "import pickle"
   ]
  },
  {
   "cell_type": "code",
   "execution_count": 2,
   "metadata": {},
   "outputs": [],
   "source": [
    "df = pd.read_excel('travel_destination_dataset.xlsx')"
   ]
  },
  {
   "cell_type": "code",
   "execution_count": 3,
   "metadata": {},
   "outputs": [],
   "source": [
    "def assign_tags(row, tag):\n",
    "    return tag in row"
   ]
  },
  {
   "cell_type": "code",
   "execution_count": 4,
   "metadata": {},
   "outputs": [
    {
     "name": "stdout",
     "output_type": "stream",
     "text": [
      "Recommended Cities for Ganga Sagar (Sagardwip) : ['Badrinath', 'Hajo', 'Shirdi', 'Rameshwaram', 'Vrindavan', 'Nashik', 'Mathura', 'Somnath', 'Prayagraj', 'Haridwar', 'Dwarka', 'Varanasi']\n"
     ]
    }
   ],
   "source": [
    "# Load the data\n",
    "data = df\n",
    "# Preprocess the 'Tags' column\n",
    "data['Tags'] = data['Tags'].apply(lambda x: ' '.join(x.split('|')))\n",
    "\n",
    "# Encode categorical variables (Tags and State)\n",
    "tfidf = TfidfVectorizer()\n",
    "# tfidf_matrix = tfidf.fit_transform(data['Tags'] + ' ' + data['State'])\n",
    "tfidf_matrix = tfidf.fit_transform(df[\"Tags\"])\n",
    "# Compute cosine similarity between TF-IDF vectors\n",
    "cosine_sim = cosine_similarity(tfidf_matrix, tfidf_matrix)\n",
    "\n",
    "# Function to recommend cities based on a specific city and number of cities\n",
    "def recommend_city(city, num_cities, cosine_sim=cosine_sim):\n",
    "    # Find the index of the provided city\n",
    "    city_index = data[data['City'] == city].index[0]\n",
    "    \n",
    "    # Compute similarity scores between the provided city and all other cities\n",
    "    sim_scores = cosine_sim[city_index]\n",
    "\n",
    "    # Get indices of cities sorted by similarity score (excluding the provided city)\n",
    "    sim_indices = sim_scores.argsort()[::-1]\n",
    "    recommended_cities = []\n",
    "    for idx in sim_indices:\n",
    "        if idx != city_index:\n",
    "            recommended_cities.append(data.iloc[idx]['City'])\n",
    "        if len(recommended_cities) == num_cities:\n",
    "            break\n",
    "    return recommended_cities\n",
    "\n",
    "# Example usage\n",
    "city = 'Ganga Sagar (Sagardwip)'  # Example city provided by the user\n",
    "num_cities = 12  # Example number of cities the user wants to see\n",
    "recommended_cities = recommend_city(city, num_cities)\n",
    "print(\"Recommended Cities for\", city, \":\", recommended_cities)\n"
   ]
  },
  {
   "cell_type": "code",
   "execution_count": 5,
   "metadata": {},
   "outputs": [],
   "source": [
    "pickle.dump(cosine_sim,open('similarity_cities.pkl','wb'))"
   ]
  },
  {
   "cell_type": "code",
   "execution_count": null,
   "metadata": {},
   "outputs": [],
   "source": []
  }
 ],
 "metadata": {
  "kernelspec": {
   "display_name": "Python 3",
   "language": "python",
   "name": "python3"
  },
  "language_info": {
   "codemirror_mode": {
    "name": "ipython",
    "version": 3
   },
   "file_extension": ".py",
   "mimetype": "text/x-python",
   "name": "python",
   "nbconvert_exporter": "python",
   "pygments_lexer": "ipython3",
   "version": "3.11.1"
  }
 },
 "nbformat": 4,
 "nbformat_minor": 2
}
