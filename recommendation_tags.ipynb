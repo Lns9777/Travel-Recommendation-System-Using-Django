{
 "cells": [
  {
   "cell_type": "code",
   "execution_count": 12,
   "metadata": {},
   "outputs": [],
   "source": [
    "import pandas as pd\n",
    "import numpy as np\n",
    "import matplotlib.pyplot as plt\n",
    "import seaborn as sns\n",
    "import nltk\n",
    "from nltk.corpus import stopwords\n",
    "from nltk.tokenize import word_tokenize\n",
    "from sklearn.feature_extraction.text import TfidfVectorizer\n",
    "import string\n",
    "from sklearn.metrics.pairwise import cosine_similarity\n",
    "import pickle"
   ]
  },
  {
   "cell_type": "code",
   "execution_count": 2,
   "metadata": {},
   "outputs": [],
   "source": [
    "df = pd.read_excel('travel_destination_dataset.xlsx')"
   ]
  },
  {
   "cell_type": "code",
   "execution_count": 4,
   "metadata": {},
   "outputs": [],
   "source": [
    "def assign_tags(row, tag):\n",
    "    return tag in row"
   ]
  },
  {
   "cell_type": "code",
   "execution_count": 5,
   "metadata": {},
   "outputs": [],
   "source": [
    "df['Historical & Heritage'] = df['Tags'].apply(assign_tags, tag='Historical & Heritage')\n",
    "df['city'] = df['Tags'].apply(assign_tags, tag='City')\n",
    "df['Pilgrimage'] = df['Tags'].apply(assign_tags, tag='Pilgrimage')\n",
    "df['Hill Station'] = df['Tags'].apply(assign_tags, tag='Hill Station')\n",
    "df['Beach'] = df['Tags'].apply(assign_tags, tag='Beach')\n",
    "df['Lake & Backwater'] = df['Tags'].apply(assign_tags, tag='Lake & Backwater')\n",
    "df['Wildlife'] = df['Tags'].apply(assign_tags, tag='Wildlife')\n",
    "df['Waterfall'] = df['Tags'].apply(assign_tags, tag='Waterfall')\n",
    "df['Nature & Scenic'] = df['Tags'].apply(assign_tags, tag='Nature & Scenic')\n",
    "df['Adventure / Trekking'] = df['Tags'].apply(assign_tags, tag='Adventure / Trekking')\n"
   ]
  },
  {
   "cell_type": "code",
   "execution_count": 6,
   "metadata": {},
   "outputs": [],
   "source": [
    "df['Historical & Heritage'] = df['Historical & Heritage'].astype(int)\n",
    "df['city'] = df['city'].astype(int)\n",
    "df['Pilgrimage'] = df['Pilgrimage'].astype(int)\n",
    "df['Hill Station'] = df['Hill Station'].astype(int)\n",
    "df['Beach'] = df['Beach'].astype(int)\n",
    "df['Lake & Backwater'] = df['Lake & Backwater'].astype(int)\n",
    "df['Wildlife'] = df['Wildlife'].astype(int)\n",
    "df['Nature & Scenic'] = df['Nature & Scenic'].astype(int)\n",
    "df['Adventure / Trekking'] = df['Adventure / Trekking'].astype(int)\n",
    "df['Waterfall'] = df['Waterfall'].astype(int)\n"
   ]
  },
  {
   "cell_type": "code",
   "execution_count": 8,
   "metadata": {},
   "outputs": [],
   "source": [
    "tags_df = df[['Historical & Heritage', 'city',\n",
    "       'Pilgrimage', 'Hill Station', 'Beach', 'Lake & Backwater', 'Wildlife',\n",
    "       'Waterfall', 'Nature & Scenic', 'Adventure / Trekking']]\n",
    "similarity_matrix_tags= cosine_similarity(tags_df)"
   ]
  },
  {
   "cell_type": "code",
   "execution_count": 9,
   "metadata": {},
   "outputs": [],
   "source": [
    "def get_recommendations_tags(index, similarity_matrix_tags, df, top_n):\n",
    "    # Get similarity scores for the given index\n",
    "    similarity_scores = list(enumerate(similarity_matrix_tags[index]))\n",
    "    # Sort the scores in descending order, exclude the item itself\n",
    "    similarity_scores = sorted(similarity_scores, key=lambda x: x[1], reverse=True)\n",
    "    # Get the indices of the most similar items\n",
    "    similar_indices = [i[0] for i in similarity_scores[1:top_n+1]]\n",
    "    # Return the top_n most similar items\n",
    "    return df.iloc[similar_indices]"
   ]
  },
  {
   "cell_type": "code",
   "execution_count": 10,
   "metadata": {},
   "outputs": [],
   "source": [
    "recommendations = get_recommendations_tags(0,similarity_matrix_tags, df, top_n=10)"
   ]
  },
  {
   "cell_type": "code",
   "execution_count": 11,
   "metadata": {},
   "outputs": [
    {
     "name": "stdout",
     "output_type": "stream",
     "text": [
      "                City          State  Avg Expense Per Day  \\\n",
      "1               Agra  Uttar Pradesh                 1988   \n",
      "7             Jaipur      Rajasthan                 1883   \n",
      "21            Mysore      Karnataka                 1645   \n",
      "24            Mumbai    Maharashtra                 3671   \n",
      "33         Hyderabad      Telangana                 3053   \n",
      "37         Ahmedabad        Gujarat                 2356   \n",
      "67   Tiruchirappalli     Tamil Nadu                 2499   \n",
      "86              Pune    Maharashtra                 3083   \n",
      "131          Lucknow  Uttar Pradesh                 2267   \n",
      "27           Madurai     Tamil Nadu                 1896   \n",
      "\n",
      "                                            Tags  \n",
      "1                  City |  Historical & Heritage  \n",
      "7                  Historical & Heritage |  City  \n",
      "21                 Historical & Heritage |  City  \n",
      "24                 Historical & Heritage |  City  \n",
      "33                 Historical & Heritage |  City  \n",
      "37                 Historical & Heritage |  City  \n",
      "67                 Historical & Heritage |  City  \n",
      "86                 Historical & Heritage |  City  \n",
      "131                 Historical & Heritage | City  \n",
      "27   Historical & Heritage |  Pilgrimage |  City  \n"
     ]
    }
   ],
   "source": [
    "print(recommendations[['City', 'State', 'Avg Expense Per Day','Tags']])"
   ]
  },
  {
   "cell_type": "code",
   "execution_count": 14,
   "metadata": {},
   "outputs": [],
   "source": [
    "pickle.dump(similarity_matrix_tags,open('similarity_tags.pkl','wb'))"
   ]
  },
  {
   "cell_type": "code",
   "execution_count": null,
   "metadata": {},
   "outputs": [],
   "source": []
  }
 ],
 "metadata": {
  "kernelspec": {
   "display_name": "Python 3",
   "language": "python",
   "name": "python3"
  },
  "language_info": {
   "codemirror_mode": {
    "name": "ipython",
    "version": 3
   },
   "file_extension": ".py",
   "mimetype": "text/x-python",
   "name": "python",
   "nbconvert_exporter": "python",
   "pygments_lexer": "ipython3",
   "version": "3.11.1"
  }
 },
 "nbformat": 4,
 "nbformat_minor": 2
}
